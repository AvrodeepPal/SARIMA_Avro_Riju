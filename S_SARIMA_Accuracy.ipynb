import pandas as pd

# Load the model error data from 'Model_Errors.csv'
error_df = pd.read_csv('Model_Errors.csv')

# Check if 'Error (MAPE)' column exists in the DataFrame
if 'Error (MAPE)' in error_df.columns:
    # Calculate the average MAPE
    average_mape = error_df['Error (MAPE)'].mean()

    # Calculate Accuracy
    accuracy = 100 - average_mape

    # Display MAPE and Accuracy
    print(f"Average MAPE: {average_mape:.2f}%")
    print(f"Accuracy: {accuracy:.2f}%")
else:
    print("Error: 'Error (MAPE)' column not found in the 'Model_Errors.csv' file.")
